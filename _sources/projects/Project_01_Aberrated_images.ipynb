{
 "cells": [
  {
   "cell_type": "markdown",
   "source": [
    "# Aberrated image recovery of ultracold atoms"
   ],
   "metadata": {
    "collapsed": false
   },
   "id": "df490bd0d33a4370"
  },
  {
   "cell_type": "markdown",
   "source": [
    "## Overview"
   ],
   "metadata": {
    "collapsed": false
   },
   "id": "7537b664c9ec6e76"
  },
  {
   "cell_type": "markdown",
   "source": [
    "\n",
    "![](Overview_pics\\\\SimIm.png)"
   ],
   "metadata": {
    "collapsed": false
   },
   "id": "d1d89e4b100c3d35"
  },
  {
   "cell_type": "markdown",
   "source": [
    "## Data Sources"
   ],
   "metadata": {
    "collapsed": false
   },
   "id": "340d2ca1b3531f23"
  },
  {
   "cell_type": "markdown",
   "source": [
    "[]"
   ],
   "metadata": {
    "collapsed": false
   },
   "id": "b938a3e0eef8b55d"
  },
  {
   "cell_type": "markdown",
   "source": [
    "## Questions"
   ],
   "metadata": {
    "collapsed": false
   },
   "id": "a8c6b21f91fe8217"
  },
  {
   "cell_type": "markdown",
   "source": [
    "### Question 01"
   ],
   "metadata": {
    "collapsed": false
   },
   "id": "848e93e5aac82209"
  },
  {
   "cell_type": "markdown",
   "source": [
    "What is a cold atom gas? How cold are we talking? How do experiments bring atoms down to those temperatures?\n",
    "\n",
    "When you research these experiments you will find that the Alkali atoms (Rb, K, Na, etc.) compose the majority set of species used. Why these atoms? Hint: recall high school chemistry. What do these atoms have in common with everyone's favorite quantum system, the hydrogen atom?"
   ],
   "metadata": {
    "collapsed": false
   },
   "id": "3b0c9193765951fa"
  },
  {
   "cell_type": "markdown",
   "source": [
    "### Question 02"
   ],
   "metadata": {
    "collapsed": false
   },
   "id": "39bd4c7f84f07040"
  },
  {
   "cell_type": "markdown",
   "source": [
    "When we attempt to measure the number density distribution of our cold atom gas, we typically release the gas from any kind of confinement it was in and let it expand in free-fall before taking an image. When we take a picture thereafter the density distribution often has the shape of Gaussian. Why is that? Think stat mech."
   ],
   "metadata": {
    "collapsed": false
   },
   "id": "b82d7275ae7ecdb9"
  },
  {
   "cell_type": "markdown",
   "source": [
    "### Question 03"
   ],
   "metadata": {
    "collapsed": false
   },
   "id": "6e52c41fde62bb53"
  },
  {
   "cell_type": "markdown",
   "source": [
    "Real imaging systems have a finite resolution set by the diffraction limit. Given a point source emitting a spherical EM field, a real lens will propagate the field from the object plane to the imaging plane, projecting a pattern which we call the imaging response function, or [point spread function (PSF)](https://en.wikipedia.org/wiki/Point_spread_function), of the system. For any object with finite size, we can think of the resultant image as being formed by a sum over the PSF associated with each point in the object, i.e. a convolution.\n",
    "\n",
    "For a circular lens the shape of the best focus PSF (meaning the shape of an image formed from a point source located on the imaging axis at the best focus) we refer to as the [Airy disk](https://en.wikipedia.org/wiki/Airy_disk). Its first set of zeros are located at $\\rho\\approx3.83$, for a dimensionless radial component $\\rho$. \n",
    "\n",
    "Given this information and the functional form of the Airy disk, estimate the amount of irradiance (or weight) that sits in the central peak of the pattern relative to the whole distribution.\n",
    "\n",
    "If you were to approximate this distribution to a Gaussian with the same peak irradiance, how would the first minima of the Airy disk relate to the $1/e^2$ waist of the Gaussian distribution?"
   ],
   "metadata": {
    "collapsed": false
   },
   "id": "d25a732df799b197"
  },
  {
   "cell_type": "markdown",
   "source": [
    "### Questions 04"
   ],
   "metadata": {
    "collapsed": false
   },
   "id": "fb31f3266b30407a"
  },
  {
   "cell_type": "markdown",
   "source": [
    "In the previous question the resolution we were interested in describes the size of the image of point source in the plane transverse to the axis the image propagates along. What about along the imaging axis? We often calls this axial resolution the depth of field (DOF), although when we want a number to describe it different sources define that value differently.\n",
    "\n",
    "How are the DOF and transverse resolution related to each other? No mathematical relationship is necessary here (although you can if you want to, so long as you restrict yourself to thinking about the axial PSF along $\\rho=0$)."
   ],
   "metadata": {
    "collapsed": false
   },
   "id": "6ac2cb6516391690"
  },
  {
   "cell_type": "markdown",
   "source": [
    "---\n",
    "To answer the rest of the questions in first chunk of this project we will use images from the **Number_estimate** and **Heavy_tails** datasets. This data was generated in the ImageSimulation.ipynb, found attached to this project. The images in the **Heavy_tails** dataset depict cold atom gases of variable $\\sigma_{xy}$ and $\\sigma_z$, at a fixed large atom number ($N=100000$), and those in the **Number_estimate** dataset contain images of a large isotropic ($\\sigma_{xy}=\\sigma_z=20$ um) gas across a range of small atom numbers and shots.\n",
    "\n",
    "In generating these images, there are handful of fixed hyperparameters chosen to match a realistic set of experimental conditions. Here we are imaging a thermal gas of Rb$^{87}$ atoms with a $\\lambda=780.2$ nm (near-infrared) light. That light is collected as by one of two imaging system: a (relatively) high numerical aperture ($\\text{NA}=0.4$) lens and a lower resolution ($\\text{NA}=0.2$) one. The image is projected on to a camera sensor with a pixel size of $\\text{PS}=13$ um, by a telescope with and $\\text{M}=20\\times$ or $\\text{M}=4\\times$ magnification respectively for each lens.\n",
    "\n",
    "The images in the **Heavy_tails** dataset were generated with the high NA system and the those in **Number_estimate** dataset were generated with the low NA system.\n",
    "\n",
    "With the **Number_estimate** dataset you will explore how [shot noise](https://en.wikipedia.org/wiki/Shot_noise) effects your ability to accurately estimate the total number of atoms in an image.\n",
    "\n",
    "With the **Heavy_tails** dataset you will test the ability of a simple linear decomposition to reduce the dimensionality of the data and confirm whether the 'compressed' image still retains relevant features of the gas. Images involving gases generated with $\\sigma_z\\gtrsim \\text{DOF}$ will acquire a noticeable tail in the image, diverging from the true Gaussian number density distribution. Of interest is how this tail is carried through to the compressed and reconstructed images. \n"
   ],
   "metadata": {
    "collapsed": false
   },
   "id": "e7a1dcf40964dfd9"
  },
  {
   "cell_type": "markdown",
   "source": [
    "### Question 06"
   ],
   "metadata": {
    "collapsed": false
   },
   "id": "a24b775f5ec9727c"
  },
  {
   "cell_type": "markdown",
   "source": [
    "The data here in this project are images---2D arrays containing greyscale information of the irradiance associated with the image of the gas. What is the dimension of this kind of data?\n",
    "\n",
    "Consider the **Number_estimate** dataset of images and take each image as a sample across all dimensions of the image data. Suppose the question we are interested in is: Can we determine that the number of atoms in the image is greater than $X$? How many samples would we need to fully sample the parameter space of images here if none of the pixels in an image were correlated?"
   ],
   "metadata": {
    "collapsed": false
   },
   "id": "37f5109557a51190"
  },
  {
   "cell_type": "markdown",
   "source": [
    "### Quesiton 07"
   ],
   "metadata": {
    "collapsed": false
   },
   "id": "72d32b38519bac14"
  },
  {
   "cell_type": "markdown",
   "source": [
    "Take images from the **Number_estimate** dataset where the total atom number of true distribution is $N=100000$ and draw an appropriately binned histogram of the total atom number in the image by summing over all the pixels in the image. Repeat this for the $N=10000$ subset of the dataset.\n",
    "\n",
    "How are these histograms distinct from each other?"
   ],
   "metadata": {
    "collapsed": false
   },
   "id": "b28d8af25e283496"
  },
  {
   "cell_type": "markdown",
   "source": [
    "### Question 08"
   ],
   "metadata": {
    "collapsed": false
   },
   "id": "4e7a8a43d04e209"
  },
  {
   "cell_type": "markdown",
   "source": [
    "Draw histograms for the rest of the data in the **Number_estimate** dataset. Implement a KMeans fit of the 1D atom number data to attempt to recover the true atom number of each image."
   ],
   "metadata": {
    "collapsed": false
   },
   "id": "ccabd36994d9e38e"
  },
  {
   "cell_type": "markdown",
   "source": [
    "### Question 09"
   ],
   "metadata": {
    "collapsed": false
   },
   "id": "7ee52b0183327868"
  },
  {
   "cell_type": "markdown",
   "source": [
    "Take the images in the **Heavy_tails** dataset. Use singular value decomposition (SVD) to generate a compressed version of each image, by decomposing the data and sampling a rank-$k$ subset of the latent variable space. Reconstruct images for a handful of $k$.\n",
    "\n",
    "At what point do images with the same $\\sigma_{xy}$ but different $\\sigma_z$ appear to have the same sized tail in the compressed parameter space?"
   ],
   "metadata": {
    "collapsed": false
   },
   "id": "493a4c61ce95b1fc"
  },
  {
   "cell_type": "markdown",
   "source": [
    "## Sources"
   ],
   "metadata": {
    "collapsed": false
   },
   "id": "a40ac672a84fd0f3"
  },
  {
   "cell_type": "markdown",
   "source": [
    "[1] Goodman, J. W. (2005). Introduction to Fourier optics. Introduction to Fourier optics, 3rd ed., by JW Goodman. Englewood, CO: Roberts & Co. Publishers, 2005, 1.\n",
    "\n",
    "[2] Foot, C. (2005). Atomic physics. Oxford University Press, USA."
   ],
   "metadata": {
    "collapsed": false
   },
   "id": "f362480d6ee8bcc2"
  },
  {
   "cell_type": "markdown",
   "source": [
    "- Initial version: Max Gold"
   ],
   "metadata": {
    "collapsed": false
   },
   "id": "4915f834f5567f8"
  }
 ],
 "metadata": {
  "kernelspec": {
   "display_name": "Python 3",
   "language": "python",
   "name": "python3"
  },
  "language_info": {
   "codemirror_mode": {
    "name": "ipython",
    "version": 2
   },
   "file_extension": ".py",
   "mimetype": "text/x-python",
   "name": "python",
   "nbconvert_exporter": "python",
   "pygments_lexer": "ipython2",
   "version": "2.7.6"
  }
 },
 "nbformat": 4,
 "nbformat_minor": 5
}
